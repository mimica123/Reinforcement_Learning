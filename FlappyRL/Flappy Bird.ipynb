{
 "cells": [
  {
   "cell_type": "code",
   "execution_count": null,
   "id": "30f55939",
   "metadata": {},
   "outputs": [
    {
     "ename": "Error",
     "evalue": "Session cannot generate requests",
     "output_type": "error",
     "traceback": [
      "Error: Session cannot generate requests",
      "at w.executeCodeCell (c:\\Users\\vicky\\.vscode\\extensions\\ms-toolsai.jupyter-2021.9.1101343141\\out\\client\\extension.js:52:301180)",
      "at w.execute (c:\\Users\\vicky\\.vscode\\extensions\\ms-toolsai.jupyter-2021.9.1101343141\\out\\client\\extension.js:52:300551)",
      "at w.start (c:\\Users\\vicky\\.vscode\\extensions\\ms-toolsai.jupyter-2021.9.1101343141\\out\\client\\extension.js:52:296215)",
      "at runMicrotasks (<anonymous>)",
      "at processTicksAndRejections (internal/process/task_queues.js:93:5)",
      "at async t.CellExecutionQueue.executeQueuedCells (c:\\Users\\vicky\\.vscode\\extensions\\ms-toolsai.jupyter-2021.9.1101343141\\out\\client\\extension.js:52:310950)",
      "at async t.CellExecutionQueue.start (c:\\Users\\vicky\\.vscode\\extensions\\ms-toolsai.jupyter-2021.9.1101343141\\out\\client\\extension.js:52:310490)"
     ]
    }
   ],
   "source": [
    "#Import Dependencies\n",
    "import random\n",
    "import numpy as np\n",
    "import flappy_bird_gym\n",
    "from collections import deque\n",
    "from tensorflow.keras.layers import Inputlayer, Dense\n",
    "from tensorflow.keras.models import load_model, save_model, Sequential\n",
    "from tensorflow.keras.optimizers import RMSprop"
   ]
  },
  {
   "cell_type": "code",
   "execution_count": null,
   "id": "51b36077",
   "metadata": {},
   "outputs": [
    {
     "ename": "Error",
     "evalue": "Session cannot generate requests",
     "output_type": "error",
     "traceback": [
      "Error: Session cannot generate requests",
      "at w.executeCodeCell (c:\\Users\\vicky\\.vscode\\extensions\\ms-toolsai.jupyter-2021.9.1101343141\\out\\client\\extension.js:52:301180)",
      "at w.execute (c:\\Users\\vicky\\.vscode\\extensions\\ms-toolsai.jupyter-2021.9.1101343141\\out\\client\\extension.js:52:300551)",
      "at w.start (c:\\Users\\vicky\\.vscode\\extensions\\ms-toolsai.jupyter-2021.9.1101343141\\out\\client\\extension.js:52:296215)",
      "at runMicrotasks (<anonymous>)",
      "at processTicksAndRejections (internal/process/task_queues.js:93:5)",
      "at async t.CellExecutionQueue.executeQueuedCells (c:\\Users\\vicky\\.vscode\\extensions\\ms-toolsai.jupyter-2021.9.1101343141\\out\\client\\extension.js:52:310950)",
      "at async t.CellExecutionQueue.start (c:\\Users\\vicky\\.vscode\\extensions\\ms-toolsai.jupyter-2021.9.1101343141\\out\\client\\extension.js:52:310490)"
     ]
    }
   ],
   "source": [
    "#Neural Network for Agent\n",
    "def NeuralNetwork(input_shape, output_shape):\n",
    "    model = Sequential()\n",
    "    model.add(Input(input_shape))\n",
    "    model.add(Dense(512, input_shape=input_shape, activation='relu', kernel_initializer='he_uniform'))\n",
    "    model.add(Dense(256, activation='relu', kernel_initializer='he_uniform'))\n",
    "    model.add(Dense(64, activation='relu', kernel_initializer='he_uniform'))\n",
    "    model.add(Dense(output_shape, activation='linear', kernel_initializer='he_uniform'))\n",
    "    model.compile(loss='mse', optimizer=RMSprop(learning_rate=0.0001, rho=0.95, epsilon=0.01), metrics=['accuracy'])\n",
    "    model.summary()\n",
    "    return model"
   ]
  },
  {
   "cell_type": "code",
   "execution_count": null,
   "id": "6ff7a410",
   "metadata": {},
   "outputs": [
    {
     "ename": "Error",
     "evalue": "Session cannot generate requests",
     "output_type": "error",
     "traceback": [
      "Error: Session cannot generate requests",
      "at w.executeCodeCell (c:\\Users\\vicky\\.vscode\\extensions\\ms-toolsai.jupyter-2021.9.1101343141\\out\\client\\extension.js:52:301180)",
      "at w.execute (c:\\Users\\vicky\\.vscode\\extensions\\ms-toolsai.jupyter-2021.9.1101343141\\out\\client\\extension.js:52:300551)",
      "at w.start (c:\\Users\\vicky\\.vscode\\extensions\\ms-toolsai.jupyter-2021.9.1101343141\\out\\client\\extension.js:52:296215)",
      "at runMicrotasks (<anonymous>)",
      "at processTicksAndRejections (internal/process/task_queues.js:93:5)",
      "at async t.CellExecutionQueue.executeQueuedCells (c:\\Users\\vicky\\.vscode\\extensions\\ms-toolsai.jupyter-2021.9.1101343141\\out\\client\\extension.js:52:310950)",
      "at async t.CellExecutionQueue.start (c:\\Users\\vicky\\.vscode\\extensions\\ms-toolsai.jupyter-2021.9.1101343141\\out\\client\\extension.js:52:310490)"
     ]
    }
   ],
   "source": [
    "#Brain of Agente || BluePrint of Agent\n",
    "class DQNAgent:\n",
    "    def __init__(self):\n",
    "        #Environment Variables\n",
    "        self.env = flappy_bird_gym.make(\"FlappyBird-v0\")\n",
    "        self.episodes = 1000\n",
    "        self.state_space = self.env.observation_space.shape[0]\n",
    "        self.action_space = self.env.action_space.n\n",
    "        self.memory = deque(maxlen=1000)\n",
    "        \n",
    "        #Hyperparameters\n",
    "        self.gamma = .95\n",
    "        self.epsilon = 1\n",
    "        self.epsilon_decay = 0.9999\n",
    "        self.epsilon_min = 0.01\n",
    "        self.batch_number = 64 #16, 32, 128, 256\n",
    "        \n",
    "        self.train_start = 1000\n",
    "        self.jump_prob = 0.01\n",
    "        \n",
    "        self.model = NeuralNetwork(input_shape=(self.state_space,), output_shape=self.action_space)\n",
    "        \n",
    "    def act(self, state):\n",
    "        if np.random.random() > self.epsilon:\n",
    "            return np.argmax(self.model.predict(state))\n",
    "        return 1 if np.random.random() < self.jump_prob else 0\n",
    "    \n",
    "    def learn(self):\n",
    "        #Make sure we have enough data\n",
    "        if len(self.memory) < self.train_start:\n",
    "            return\n",
    "        \n",
    "        #Create minibatch\n",
    "        minibatch = random.sample(self.memory, min(len(self.memory), sel.batch_number))\n",
    "        #Variables to store minibatch info\n",
    "        state = np.zeros((self.batch_number, self.state_space))\n",
    "        next_state = np.zeros((self.batch_number, self.state_space))\n",
    "        \n",
    "        action, reward, done = [], [], []\n",
    "        \n",
    "        for i in range(self.batch_number):\n",
    "            state[i] = minibatch[i][0]\n",
    "            action.append(minibatch[i][1])\n",
    "            reward.append(minibatch[i][2])\n",
    "            next_state[i] = minibatch[i][3]\n",
    "            done.append(minibatch[i][4])\n",
    "\n",
    "        #Predict y label    \n",
    "        target = self.model.predict(state)\n",
    "        target_next = self.model.predict(next_state)\n",
    "\n",
    "        for i in range(self.batch_number):\n",
    "            if done[i]:\n",
    "                target[i][action[i]]= reward[i]\n",
    "            else: \n",
    "                target[i][action[i]] = reward[i] + self.gamma * (np.max(target_next[i]))\n",
    "            \n",
    "        sekf.model.fit(state, target, batch_size= self.batch_number, verbose=0)\n",
    "\n",
    "        \n",
    "    def train(self):\n",
    "        # n Episodes iterations for training\n",
    "        for i in range(self.episodes):\n",
    "            #Environment variables for training\n",
    "            state = self.env.reset()\n",
    "            state = np.reshape(state, [1, self.state_space])\n",
    "            done = False\n",
    "            score = 0\n",
    "            self.epsilon = self.epsilon * self.epsilon_decay if self.epsilon * self.epsilon_decay > self.epsilon_min else self.epsilon_min\n",
    "            \n",
    "            while not done:\n",
    "                self.env.render()\n",
    "                action = self.act(state)\n",
    "                next_state, reward, done, info = self.env.step(action)\n",
    "                \n",
    "                #reshape nextstate\n",
    "                next_state = np.reshape(next_state, [1, self.state_space])\n",
    "                score += 1\n",
    "                \n",
    "                if done:\n",
    "                    reward -= 100\n",
    "                \n",
    "                self.memory.append((state, action, reward, next_state, done))\n",
    "                state =next_state\n",
    "                \n",
    "                if done:\n",
    "                    print(\"Episode: {}\\nScore: {}\\nEpsilon: {:.2}\".format(i, score, self.epsilon))\n",
    "                    #Save model\n",
    "                    if score >= 1000:\n",
    "                        self.model.save('flappybrain.h5')\n",
    "                        return\n",
    "                        \n",
    "                self.learn()"
   ]
  },
  {
   "cell_type": "code",
   "execution_count": 10,
   "id": "71497585",
   "metadata": {},
   "outputs": [
    {
     "name": "stdout",
     "output_type": "stream",
     "text": [
      "WARNING:tensorflow:Please add `keras.layers.InputLayer` instead of `keras.Input` to Sequential model. `keras.Input` is intended to be used by Functional model.\n",
      "Model: \"sequential_3\"\n",
      "_________________________________________________________________\n",
      "Layer (type)                 Output Shape              Param #   \n",
      "=================================================================\n",
      "dense_12 (Dense)             (None, 512)               1536      \n",
      "_________________________________________________________________\n",
      "dense_13 (Dense)             (None, 256)               131328    \n",
      "_________________________________________________________________\n",
      "dense_14 (Dense)             (None, 64)                16448     \n",
      "_________________________________________________________________\n",
      "dense_15 (Dense)             (None, 2)                 130       \n",
      "=================================================================\n",
      "Total params: 149,442\n",
      "Trainable params: 149,442\n",
      "Non-trainable params: 0\n",
      "_________________________________________________________________\n"
     ]
    },
    {
     "ename": "ValueError",
     "evalue": "Cannot specify ',' with '2'.",
     "output_type": "error",
     "traceback": [
      "\u001b[1;31m---------------------------------------------------------------------------\u001b[0m",
      "\u001b[1;31mValueError\u001b[0m                                Traceback (most recent call last)",
      "\u001b[1;32m~\\AppData\\Local\\Temp/ipykernel_11816/3909190044.py\u001b[0m in \u001b[0;36m<module>\u001b[1;34m\u001b[0m\n\u001b[0;32m      1\u001b[0m \u001b[1;32mif\u001b[0m \u001b[0m__name__\u001b[0m\u001b[1;33m==\u001b[0m \u001b[1;34m'__main__'\u001b[0m\u001b[1;33m:\u001b[0m\u001b[1;33m\u001b[0m\u001b[1;33m\u001b[0m\u001b[0m\n\u001b[0;32m      2\u001b[0m     \u001b[0magent\u001b[0m \u001b[1;33m=\u001b[0m \u001b[0mDQNAgent\u001b[0m\u001b[1;33m(\u001b[0m\u001b[1;33m)\u001b[0m\u001b[1;33m\u001b[0m\u001b[1;33m\u001b[0m\u001b[0m\n\u001b[1;32m----> 3\u001b[1;33m     \u001b[0magent\u001b[0m\u001b[1;33m.\u001b[0m\u001b[0mtrain\u001b[0m\u001b[1;33m(\u001b[0m\u001b[1;33m)\u001b[0m\u001b[1;33m\u001b[0m\u001b[1;33m\u001b[0m\u001b[0m\n\u001b[0m",
      "\u001b[1;32m~\\AppData\\Local\\Temp/ipykernel_11816/3084173519.py\u001b[0m in \u001b[0;36mtrain\u001b[1;34m(self)\u001b[0m\n\u001b[0;32m     85\u001b[0m \u001b[1;33m\u001b[0m\u001b[0m\n\u001b[0;32m     86\u001b[0m                 \u001b[1;32mif\u001b[0m \u001b[0mdone\u001b[0m\u001b[1;33m:\u001b[0m\u001b[1;33m\u001b[0m\u001b[1;33m\u001b[0m\u001b[0m\n\u001b[1;32m---> 87\u001b[1;33m                     \u001b[0mprint\u001b[0m\u001b[1;33m(\u001b[0m\u001b[1;34m\"Episode: {}\\nScore: {}\\nEpsilon: {:,2}\"\u001b[0m\u001b[1;33m.\u001b[0m\u001b[0mformat\u001b[0m\u001b[1;33m(\u001b[0m\u001b[0mi\u001b[0m\u001b[1;33m,\u001b[0m \u001b[0mscore\u001b[0m\u001b[1;33m,\u001b[0m \u001b[0mself\u001b[0m\u001b[1;33m.\u001b[0m\u001b[0mepsilon\u001b[0m\u001b[1;33m)\u001b[0m\u001b[1;33m)\u001b[0m\u001b[1;33m\u001b[0m\u001b[1;33m\u001b[0m\u001b[0m\n\u001b[0m\u001b[0;32m     88\u001b[0m                     \u001b[1;31m#Save model\u001b[0m\u001b[1;33m\u001b[0m\u001b[1;33m\u001b[0m\u001b[0m\n\u001b[0;32m     89\u001b[0m                     \u001b[1;32mif\u001b[0m \u001b[0mscore\u001b[0m \u001b[1;33m>=\u001b[0m \u001b[1;36m1000\u001b[0m\u001b[1;33m:\u001b[0m\u001b[1;33m\u001b[0m\u001b[1;33m\u001b[0m\u001b[0m\n",
      "\u001b[1;31mValueError\u001b[0m: Cannot specify ',' with '2'."
     ]
    }
   ],
   "source": [
    "if __name__== '__main__':\n",
    "    agent = DQNAgent()\n",
    "    agent.train()"
   ]
  },
  {
   "cell_type": "code",
   "execution_count": null,
   "id": "233e635b",
   "metadata": {},
   "outputs": [],
   "source": []
  }
 ],
 "metadata": {
  "interpreter": {
   "hash": "4191dc80e4ba8664c294b99d58bfba03448f89d801b10a504e1674e74931ddca"
  },
  "kernelspec": {
   "display_name": "Python 3.9.7 64-bit ('practicalRL': conda)",
   "name": "python3"
  },
  "language_info": {
   "codemirror_mode": {
    "name": "ipython",
    "version": 3
   },
   "file_extension": ".py",
   "mimetype": "text/x-python",
   "name": "python",
   "nbconvert_exporter": "python",
   "pygments_lexer": "ipython3",
   "version": "3.9.7"
  }
 },
 "nbformat": 4,
 "nbformat_minor": 5
}
