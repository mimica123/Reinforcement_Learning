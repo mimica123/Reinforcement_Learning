{
 "cells": [
  {
   "cell_type": "code",
   "execution_count": 10,
   "id": "e7f1dcbc",
   "metadata": {},
   "outputs": [],
   "source": [
    "#Import required packages\n",
    "import gym\n",
    "import numpy\n",
    "import matplotlib.pyplot as plt\n",
    "from IPython.display import clear_output"
   ]
  },
  {
   "cell_type": "code",
   "execution_count": 41,
   "id": "4f7ee651",
   "metadata": {},
   "outputs": [],
   "source": [
    "env = gym.make('FrozenLake-v1') #('Taxi-v3')"
   ]
  },
  {
   "cell_type": "code",
   "execution_count": 42,
   "id": "189456a0",
   "metadata": {},
   "outputs": [
    {
     "name": "stdout",
     "output_type": "stream",
     "text": [
      "Episode: 9\n",
      "Score: 0.0\n"
     ]
    }
   ],
   "source": [
    "episodes = 10\n",
    "\n",
    "for episodes in range(1, episodes):\n",
    "    state = env.reset()\n",
    "    done = False\n",
    "    score = 0\n",
    "    \n",
    "    while not done:\n",
    "        env.render()\n",
    "        state, reward, done, info = env.step(env.action_space.sample())\n",
    "        score += reward\n",
    "        clear_output(wait=True)\n",
    "    print('Episode: {}\\nScore: {}'.format(episodes, score))\n",
    "    \n",
    "env.close()"
   ]
  },
  {
   "cell_type": "code",
   "execution_count": 43,
   "id": "b426b3e4",
   "metadata": {},
   "outputs": [],
   "source": [
    "#Creating Q-Table\n",
    "import numpy as np\n",
    "actions = env.action_space.n\n",
    "state = env.observation_space.n\n",
    "\n",
    "q_table = np.zeros((state, actions))"
   ]
  },
  {
   "cell_type": "code",
   "execution_count": 44,
   "id": "7760033d",
   "metadata": {},
   "outputs": [
    {
     "data": {
      "text/plain": [
       "array([[0., 0., 0., 0.],\n",
       "       [0., 0., 0., 0.],\n",
       "       [0., 0., 0., 0.],\n",
       "       [0., 0., 0., 0.],\n",
       "       [0., 0., 0., 0.],\n",
       "       [0., 0., 0., 0.],\n",
       "       [0., 0., 0., 0.],\n",
       "       [0., 0., 0., 0.],\n",
       "       [0., 0., 0., 0.],\n",
       "       [0., 0., 0., 0.],\n",
       "       [0., 0., 0., 0.],\n",
       "       [0., 0., 0., 0.],\n",
       "       [0., 0., 0., 0.],\n",
       "       [0., 0., 0., 0.],\n",
       "       [0., 0., 0., 0.],\n",
       "       [0., 0., 0., 0.]])"
      ]
     },
     "execution_count": 44,
     "metadata": {},
     "output_type": "execute_result"
    }
   ],
   "source": [
    "q_table.shape\n",
    "q_table"
   ]
  },
  {
   "cell_type": "code",
   "execution_count": 45,
   "id": "2c62a450",
   "metadata": {},
   "outputs": [],
   "source": [
    "#Parameteers for Q-Learning\n",
    "num_episodes = 10000\n",
    "max_steps_per_episode = 100\n",
    "\n",
    "learning_rate = 0.1\n",
    "discount_rate = 0.99\n",
    "\n",
    "exploration_rate = 1\n",
    "max_exploration_rate = 1\n",
    "min_exploration_rate = 0.01\n",
    "exploration_decay_rate = 0.001\n",
    "\n",
    "rewards_all_episodes = []"
   ]
  },
  {
   "cell_type": "code",
   "execution_count": 46,
   "id": "9549d62c",
   "metadata": {},
   "outputs": [
    {
     "name": "stdout",
     "output_type": "stream",
     "text": [
      "****** Training finished *******\n"
     ]
    }
   ],
   "source": [
    "#Q-Learning Algorithm\n",
    "import random\n",
    "for epidsode in range(num_episodes):\n",
    "    state = env.reset()\n",
    "    done = False\n",
    "    rewards_current_episodes = 0\n",
    "    \n",
    "    for step in range(max_steps_per_episode):\n",
    "        \n",
    "        #Exploration vs Exploitation trade-off\n",
    "        exploration_threshold = random.uniform(0, 1)\n",
    "        if exploration_threshold > exploration_rate:\n",
    "            action = np.argmax(q_table[state, :])\n",
    "        else:\n",
    "            action = env.action_space.sample()\n",
    "            \n",
    "            \n",
    "        new_state, reward, done, info = env.step(action)\n",
    "        \n",
    "        #Update Q-Table\n",
    "        q_table[state, action] = q_table[state, action] * (1 - learning_rate) + learning_rate * (reward + discount_rate * np.max(q_table[new_state, :]))\n",
    "        \n",
    "        state = new_state\n",
    "        \n",
    "        rewards_current_episodes += reward\n",
    "        \n",
    "        if done == True:\n",
    "            break\n",
    "            \n",
    "    exploration_rate = min_exploration_rate - \\\n",
    "                        (max_exploration_rate - min_exploration_rate) * np.exp(-exploration_decay_rate * episodes)\n",
    "    rewards_all_episodes.append(rewards_current_episodes)\n",
    "    \n",
    "print('****** Training finished *******')"
   ]
  },
  {
   "cell_type": "code",
   "execution_count": 47,
   "id": "ef0b4244",
   "metadata": {},
   "outputs": [
    {
     "data": {
      "text/plain": [
       "array([[0. , 0. , 0. , 0. ],\n",
       "       [0. , 0. , 0. , 0. ],\n",
       "       [0. , 0. , 0. , 0. ],\n",
       "       [0. , 0. , 0. , 0. ],\n",
       "       [0. , 0. , 0. , 0. ],\n",
       "       [0. , 0. , 0. , 0. ],\n",
       "       [0. , 0. , 0. , 0. ],\n",
       "       [0. , 0. , 0. , 0. ],\n",
       "       [0. , 0. , 0. , 0. ],\n",
       "       [0. , 0. , 0. , 0. ],\n",
       "       [0. , 0. , 0. , 0. ],\n",
       "       [0. , 0. , 0. , 0. ],\n",
       "       [0. , 0. , 0. , 0. ],\n",
       "       [0. , 0. , 0. , 0. ],\n",
       "       [0. , 0. , 0. , 0.1],\n",
       "       [0. , 0. , 0. , 0. ]])"
      ]
     },
     "execution_count": 47,
     "metadata": {},
     "output_type": "execute_result"
    }
   ],
   "source": [
    "q_table"
   ]
  },
  {
   "cell_type": "code",
   "execution_count": 48,
   "id": "ad36be4f",
   "metadata": {},
   "outputs": [
    {
     "name": "stdout",
     "output_type": "stream",
     "text": [
      "Average per thousand episodes\n",
      "1000 : 0.001\n",
      "2000 : 0.0\n",
      "3000 : 0.0\n",
      "4000 : 0.0\n",
      "5000 : 0.0\n",
      "6000 : 0.0\n",
      "7000 : 0.0\n",
      "8000 : 0.0\n",
      "9000 : 0.0\n",
      "10000 : 0.0\n"
     ]
    }
   ],
   "source": [
    "#Calculate and print average reward per thousand episodes\n",
    "rewards_per_thousand_episodes = np.split(np.array(rewards_all_episodes), num_episodes/1000)\n",
    "count = 1000\n",
    "\n",
    "print('Average per thousand episodes')\n",
    "for r in rewards_per_thousand_episodes:\n",
    "    print(count, ':', str(sum(r/1000)))\n",
    "    count += 1000"
   ]
  },
  {
   "cell_type": "code",
   "execution_count": 49,
   "id": "03fc57df",
   "metadata": {},
   "outputs": [
    {
     "name": "stdout",
     "output_type": "stream",
     "text": [
      "  (Left)\n",
      "SFFF\n",
      "FHFH\n",
      "FFFH\n",
      "\u001b[41mH\u001b[0mFFG\n",
      "*****Failed******\n"
     ]
    }
   ],
   "source": [
    "#Visualize Agent\n",
    "import time\n",
    "\n",
    "for episode in range(3):\n",
    "    state = env.reset()\n",
    "    done = False\n",
    "    print('Episode is : ' + str(episode))\n",
    "    time.sleep(1)\n",
    "    \n",
    "    for step in range(max_steps_per_episode):\n",
    "        \n",
    "        clear_output(wait=True)\n",
    "        env.render()\n",
    "        time.sleep(0.4)\n",
    "        \n",
    "        action = np.argmax(q_table[state, :])\n",
    "        \n",
    "        new_state, reward, done, info = env.step(action)\n",
    "        \n",
    "        if done:\n",
    "            clear_output(wait=True)\n",
    "            env.render()\n",
    "            if reward == 1:\n",
    "                print('***** Reached Goal ******')\n",
    "                time.sleep(2)\n",
    "                clear_output(wait=True)\n",
    "            else:\n",
    "                print('*****Failed******')\n",
    "                time.sleep(2)\n",
    "                clear_output(wait=True)\n",
    "                \n",
    "            break\n",
    "                \n",
    "        state = new_state\n",
    "        \n",
    "env.close()"
   ]
  },
  {
   "cell_type": "code",
   "execution_count": null,
   "id": "f72c7c5c",
   "metadata": {},
   "outputs": [],
   "source": []
  }
 ],
 "metadata": {
  "kernelspec": {
   "display_name": "Python 3 (ipykernel)",
   "language": "python",
   "name": "python3"
  },
  "language_info": {
   "codemirror_mode": {
    "name": "ipython",
    "version": 3
   },
   "file_extension": ".py",
   "mimetype": "text/x-python",
   "name": "python",
   "nbconvert_exporter": "python",
   "pygments_lexer": "ipython3",
   "version": "3.9.7"
  }
 },
 "nbformat": 4,
 "nbformat_minor": 5
}
